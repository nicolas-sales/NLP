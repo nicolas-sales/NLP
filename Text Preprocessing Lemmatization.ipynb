{
 "cells": [
  {
   "cell_type": "markdown",
   "id": "1e01b0b2-38ea-4ad1-baf1-312c05da0f0a",
   "metadata": {},
   "source": [
    "# WordNet Lemmatizer"
   ]
  },
  {
   "cell_type": "code",
   "execution_count": 6,
   "id": "90cdea84-49ec-4486-99ee-d0adfcadbd74",
   "metadata": {},
   "outputs": [],
   "source": [
    "import nltk"
   ]
  },
  {
   "cell_type": "code",
   "execution_count": 10,
   "id": "1eb1198e-b261-4e39-a25c-ca16a332a266",
   "metadata": {},
   "outputs": [
    {
     "name": "stderr",
     "output_type": "stream",
     "text": [
      "[nltk_data] Downloading package wordnet to\n",
      "[nltk_data]     C:\\Users\\nico_\\AppData\\Roaming\\nltk_data...\n"
     ]
    },
    {
     "data": {
      "text/plain": [
       "True"
      ]
     },
     "execution_count": 10,
     "metadata": {},
     "output_type": "execute_result"
    }
   ],
   "source": [
    " nltk.download('wordnet')"
   ]
  },
  {
   "cell_type": "code",
   "execution_count": 11,
   "id": "d0693485-b4c3-4183-9c68-02ea219c93e3",
   "metadata": {},
   "outputs": [],
   "source": [
    "from nltk.stem import WordNetLemmatizer"
   ]
  },
  {
   "cell_type": "code",
   "execution_count": 12,
   "id": "cc5301fc-9e0c-470e-bafe-2512cf48a5b9",
   "metadata": {},
   "outputs": [],
   "source": [
    "lemmatizer = WordNetLemmatizer()"
   ]
  },
  {
   "cell_type": "markdown",
   "id": "99291d5f-13d7-4cbb-9087-9b30ebe7c15c",
   "metadata": {},
   "source": [
    "nom: n, verbe: v, adjectif: a, adverbe: r"
   ]
  },
  {
   "cell_type": "code",
   "execution_count": 14,
   "id": "4e822e21-a23c-4624-b8c2-2de9b22ef68b",
   "metadata": {},
   "outputs": [
    {
     "data": {
      "text/plain": [
       "'go'"
      ]
     },
     "execution_count": 14,
     "metadata": {},
     "output_type": "execute_result"
    }
   ],
   "source": [
    "lemmatizer.lemmatize(\"going\",pos='v')"
   ]
  },
  {
   "cell_type": "code",
   "execution_count": 21,
   "id": "f11d815c-de66-42c6-9962-68bb59f3883b",
   "metadata": {},
   "outputs": [
    {
     "name": "stdout",
     "output_type": "stream",
     "text": [
      "eat--->eat\n",
      "eating--->eat\n",
      "eaten--->eat\n",
      "write--->write\n",
      "writing--->write\n",
      "program--->program\n",
      "programming--->program\n"
     ]
    }
   ],
   "source": [
    "words = [\"eat\",\"eating\",\"eaten\",\"write\",\"writing\",\"program\",\"programming\"]\n",
    "\n",
    "for word in words:\n",
    "    print(word+\"--->\"+(lemmatizer.lemmatize(word, pos='v')))"
   ]
  },
  {
   "cell_type": "code",
   "execution_count": 23,
   "id": "3a51a42b-75e2-4a35-86a6-f4857f5aa1ae",
   "metadata": {},
   "outputs": [
    {
     "name": "stdout",
     "output_type": "stream",
     "text": [
      "eat--->eat\n",
      "eating--->eating\n",
      "eaten--->eaten\n",
      "write--->write\n",
      "writing--->writing\n",
      "program--->program\n",
      "programming--->programming\n"
     ]
    }
   ],
   "source": [
    "for word in words:\n",
    "    print(word+\"--->\"+(lemmatizer.lemmatize(word, pos='a')))"
   ]
  }
 ],
 "metadata": {
  "kernelspec": {
   "display_name": "Python 3 (ipykernel)",
   "language": "python",
   "name": "python3"
  },
  "language_info": {
   "codemirror_mode": {
    "name": "ipython",
    "version": 3
   },
   "file_extension": ".py",
   "mimetype": "text/x-python",
   "name": "python",
   "nbconvert_exporter": "python",
   "pygments_lexer": "ipython3",
   "version": "3.13.5"
  }
 },
 "nbformat": 4,
 "nbformat_minor": 5
}
