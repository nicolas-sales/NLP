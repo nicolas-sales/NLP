{
 "cells": [
  {
   "cell_type": "code",
   "execution_count": 9,
   "id": "4fb7d2ef-bd8a-4da1-884c-c4ece39d426f",
   "metadata": {},
   "outputs": [],
   "source": [
    "words = [\"eat\",\"eating\",\"eaten\",\"write\",\"writing\",\"program\",\"programming\"]"
   ]
  },
  {
   "cell_type": "markdown",
   "id": "8f62ced0-3758-49d1-86f5-74efc1de2a3a",
   "metadata": {},
   "source": [
    "## PorterStemmer (garde que le radical)"
   ]
  },
  {
   "cell_type": "code",
   "execution_count": 2,
   "id": "15b9f122-63a7-4655-949a-50b7df82d74a",
   "metadata": {},
   "outputs": [],
   "source": [
    "from nltk.stem import PorterStemmer"
   ]
  },
  {
   "cell_type": "code",
   "execution_count": 10,
   "id": "a6983265-eb10-4cca-a687-39ff9502c819",
   "metadata": {},
   "outputs": [],
   "source": [
    "stemming=PorterStemmer()"
   ]
  },
  {
   "cell_type": "code",
   "execution_count": 11,
   "id": "686bedf5-82b8-425f-99ab-dbca02ddf4a6",
   "metadata": {},
   "outputs": [
    {
     "name": "stdout",
     "output_type": "stream",
     "text": [
      "eat--->eat\n",
      "eating--->eat\n",
      "eaten--->eaten\n",
      "write--->write\n",
      "writing--->write\n",
      "program--->program\n",
      "programming--->program\n"
     ]
    }
   ],
   "source": [
    "for word in words:\n",
    "    print(word+\"--->\"+(stemming.stem(word))"
   ]
  },
  {
   "cell_type": "markdown",
   "id": "f9374116-bc1b-45cd-b42b-99cfb56d9c2e",
   "metadata": {},
   "source": [
    "## RegexpStemmer class (supprime les suffixes terminant par ing,s,e,able)"
   ]
  },
  {
   "cell_type": "code",
   "execution_count": 25,
   "id": "e3d4e0b8-a741-4ea5-92bd-bfb37d5ab23f",
   "metadata": {},
   "outputs": [],
   "source": [
    "from nltk.stem import RegexpStemmer"
   ]
  },
  {
   "cell_type": "code",
   "execution_count": 26,
   "id": "d29eab72-48b1-4fa9-96d4-ac6a70f8d1bc",
   "metadata": {},
   "outputs": [],
   "source": [
    "reg_stemmer=RegexpStemmer(\"ing$|s$|e$|able$\", min=4)"
   ]
  },
  {
   "cell_type": "code",
   "execution_count": 27,
   "id": "3348f1bb-1458-4b0d-9b7c-7c0b4356bdf5",
   "metadata": {},
   "outputs": [
    {
     "data": {
      "text/plain": [
       "'eat'"
      ]
     },
     "execution_count": 27,
     "metadata": {},
     "output_type": "execute_result"
    }
   ],
   "source": [
    "reg_stemmer.stem('eating')"
   ]
  },
  {
   "cell_type": "code",
   "execution_count": 28,
   "id": "e0905101-cd87-4b26-ba17-8b987be05139",
   "metadata": {},
   "outputs": [
    {
     "data": {
      "text/plain": [
       "'boy'"
      ]
     },
     "execution_count": 28,
     "metadata": {},
     "output_type": "execute_result"
    }
   ],
   "source": [
    "reg_stemmer.stem('boys')"
   ]
  },
  {
   "cell_type": "markdown",
   "id": "3c7e2350-ff61-4a7b-9ab1-c56340b5f722",
   "metadata": {},
   "source": [
    "## Snowball Steammer"
   ]
  },
  {
   "cell_type": "code",
   "execution_count": 29,
   "id": "5f9f3e0d-d53a-4b13-b46f-392fe71f35d0",
   "metadata": {},
   "outputs": [],
   "source": [
    "from nltk.stem import SnowballStemmer"
   ]
  },
  {
   "cell_type": "code",
   "execution_count": 33,
   "id": "330b2156-6308-40a8-adaf-180dfb11b2f7",
   "metadata": {},
   "outputs": [],
   "source": [
    "snowstem = SnowballStemmer(\"english\")"
   ]
  },
  {
   "cell_type": "code",
   "execution_count": 38,
   "id": "a634532c-89f2-485e-b496-a1fdb6fae2d4",
   "metadata": {},
   "outputs": [
    {
     "name": "stdout",
     "output_type": "stream",
     "text": [
      "eat--->eat\n",
      "eating--->eat\n",
      "eaten--->eaten\n",
      "write--->write\n",
      "writing--->write\n",
      "program--->program\n",
      "programming--->program\n"
     ]
    }
   ],
   "source": [
    "for word in words:\n",
    "    print(word+\"--->\"+snowstem.stem(word))"
   ]
  },
  {
   "cell_type": "code",
   "execution_count": 39,
   "id": "c9ba0c29-f557-4a4d-b2c0-52d5d98297c3",
   "metadata": {},
   "outputs": [
    {
     "name": "stdout",
     "output_type": "stream",
     "text": [
      "fairli sportingli\n",
      "fair sport\n"
     ]
    }
   ],
   "source": [
    "# difference between PorterStemmer and Snowball Stemmer\n",
    "\n",
    "print(stemming.stem(\"fairly\"), stemming.stem(\"sportingly\"))\n",
    "print(snowstem.stem(\"fairly\"), snowstem.stem(\"sportingly\"))"
   ]
  },
  {
   "cell_type": "code",
   "execution_count": null,
   "id": "df0fcd16-d615-4851-806e-517aec0b6465",
   "metadata": {},
   "outputs": [],
   "source": []
  }
 ],
 "metadata": {
  "kernelspec": {
   "display_name": "Python 3 (ipykernel)",
   "language": "python",
   "name": "python3"
  },
  "language_info": {
   "codemirror_mode": {
    "name": "ipython",
    "version": 3
   },
   "file_extension": ".py",
   "mimetype": "text/x-python",
   "name": "python",
   "nbconvert_exporter": "python",
   "pygments_lexer": "ipython3",
   "version": "3.13.5"
  }
 },
 "nbformat": 4,
 "nbformat_minor": 5
}
