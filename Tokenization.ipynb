{
 "cells": [
  {
   "cell_type": "code",
   "execution_count": 11,
   "id": "75f34100-3bb4-4a59-9964-0fd0b31795cd",
   "metadata": {},
   "outputs": [],
   "source": [
    "corpus = \"Hello I'am Nicolas! Je suis un Data Scientist.\""
   ]
  },
  {
   "cell_type": "code",
   "execution_count": 9,
   "id": "3617a7a6-f588-483b-94f4-e4c278fb869a",
   "metadata": {},
   "outputs": [
    {
     "data": {
      "text/plain": [
       "\"Hello I'am Nicolas! Je suis un Data Scientist.\""
      ]
     },
     "execution_count": 9,
     "metadata": {},
     "output_type": "execute_result"
    }
   ],
   "source": [
    "corpus"
   ]
  },
  {
   "cell_type": "code",
   "execution_count": 22,
   "id": "2d03edcc-c627-4e50-9a46-d20c8923d5af",
   "metadata": {},
   "outputs": [],
   "source": [
    "import nltk"
   ]
  },
  {
   "cell_type": "code",
   "execution_count": 16,
   "id": "875e0ec7-f7f0-4a46-8875-8d28e9a05725",
   "metadata": {},
   "outputs": [
    {
     "name": "stderr",
     "output_type": "stream",
     "text": [
      "[nltk_data] Downloading package punkt to\n",
      "[nltk_data]     C:\\Users\\nico_\\AppData\\Roaming\\nltk_data...\n",
      "[nltk_data]   Package punkt is already up-to-date!\n",
      "[nltk_data] Downloading package punkt_tab to\n",
      "[nltk_data]     C:\\Users\\nico_\\AppData\\Roaming\\nltk_data...\n",
      "[nltk_data]   Unzipping tokenizers\\punkt_tab.zip.\n"
     ]
    },
    {
     "data": {
      "text/plain": [
       "True"
      ]
     },
     "execution_count": 16,
     "metadata": {},
     "output_type": "execute_result"
    }
   ],
   "source": [
    "nltk.download(\"punkt\")\n",
    "nltk.download(\"punkt_tab\")"
   ]
  },
  {
   "cell_type": "markdown",
   "id": "e45f3aaa-a58c-4e22-b6c2-d2d3c95e26f1",
   "metadata": {},
   "source": [
    "## Paragraph -> Sentence"
   ]
  },
  {
   "cell_type": "code",
   "execution_count": 17,
   "id": "9e139b52-fcc1-4bdd-9c56-b3755ce14a85",
   "metadata": {},
   "outputs": [],
   "source": [
    "from nltk.tokenize import sent_tokenize"
   ]
  },
  {
   "cell_type": "code",
   "execution_count": 19,
   "id": "82d5a291-4407-4c0c-bb37-b4754301ce4e",
   "metadata": {},
   "outputs": [],
   "source": [
    "documents = sent_tokenize(corpus)"
   ]
  },
  {
   "cell_type": "code",
   "execution_count": 20,
   "id": "5f72701a-a1d6-420f-aae2-b41cd56ce935",
   "metadata": {},
   "outputs": [
    {
     "data": {
      "text/plain": [
       "[\"Hello I'am Nicolas!\", 'Je suis un Data Scientist.']"
      ]
     },
     "execution_count": 20,
     "metadata": {},
     "output_type": "execute_result"
    }
   ],
   "source": [
    "documents"
   ]
  },
  {
   "cell_type": "code",
   "execution_count": 25,
   "id": "1dcb6f5b-945d-43a1-997a-4ee96138059c",
   "metadata": {},
   "outputs": [
    {
     "name": "stdout",
     "output_type": "stream",
     "text": [
      "Hello I'am Nicolas!\n",
      "Je suis un Data Scientist.\n"
     ]
    }
   ],
   "source": [
    "for sentence in documents:\n",
    "    print(sentence)"
   ]
  },
  {
   "cell_type": "markdown",
   "id": "398d5c17-7687-4031-a81d-8a13140ed18b",
   "metadata": {},
   "source": [
    "## Paragraph -> Words"
   ]
  },
  {
   "cell_type": "code",
   "execution_count": 23,
   "id": "11a0f8e2-a8bf-4b97-9c66-c4acc6600b88",
   "metadata": {},
   "outputs": [],
   "source": [
    "from nltk.tokenize import word_tokenize"
   ]
  },
  {
   "cell_type": "code",
   "execution_count": 24,
   "id": "4048b445-ee65-4c9f-bba2-24e275d14cea",
   "metadata": {},
   "outputs": [
    {
     "data": {
      "text/plain": [
       "['Hello', \"I'am\", 'Nicolas', '!', 'Je', 'suis', 'un', 'Data', 'Scientist', '.']"
      ]
     },
     "execution_count": 24,
     "metadata": {},
     "output_type": "execute_result"
    }
   ],
   "source": [
    "word_tokenize(corpus)"
   ]
  },
  {
   "cell_type": "markdown",
   "id": "0731a295-e6df-4223-82b1-e8eadae6ae0d",
   "metadata": {},
   "source": [
    "## Sentence -> Words"
   ]
  },
  {
   "cell_type": "code",
   "execution_count": 26,
   "id": "a808c83b-7c4f-464f-b423-8cc97fd48184",
   "metadata": {},
   "outputs": [
    {
     "name": "stdout",
     "output_type": "stream",
     "text": [
      "['Hello', \"I'am\", 'Nicolas', '!']\n",
      "['Je', 'suis', 'un', 'Data', 'Scientist', '.']\n"
     ]
    }
   ],
   "source": [
    "for sentence in documents:\n",
    "    print(word_tokenize(sentence))"
   ]
  },
  {
   "cell_type": "code",
   "execution_count": 28,
   "id": "db6cb977-6997-4e37-a70d-f723f2d435f5",
   "metadata": {},
   "outputs": [],
   "source": [
    "from nltk.tokenize import wordpunct_tokenize"
   ]
  },
  {
   "cell_type": "code",
   "execution_count": 31,
   "id": "28ce700b-50c8-4f81-a527-98f63d452824",
   "metadata": {},
   "outputs": [
    {
     "data": {
      "text/plain": [
       "['Hello',\n",
       " 'I',\n",
       " \"'\",\n",
       " 'am',\n",
       " 'Nicolas',\n",
       " '!',\n",
       " 'Je',\n",
       " 'suis',\n",
       " 'un',\n",
       " 'Data',\n",
       " 'Scientist',\n",
       " '.']"
      ]
     },
     "execution_count": 31,
     "metadata": {},
     "output_type": "execute_result"
    }
   ],
   "source": [
    "wordpunct_tokenize(corpus)"
   ]
  },
  {
   "cell_type": "code",
   "execution_count": 33,
   "id": "c06e67e0-684a-4964-b647-9de1e4d0d2a5",
   "metadata": {},
   "outputs": [],
   "source": [
    "from nltk.tokenize import TreebankWordTokenizer"
   ]
  },
  {
   "cell_type": "code",
   "execution_count": 34,
   "id": "ebfe6ad2-6f88-4742-a7bb-812ff972fe76",
   "metadata": {},
   "outputs": [],
   "source": [
    "tokenizer = TreebankWordTokenizer()"
   ]
  },
  {
   "cell_type": "code",
   "execution_count": 35,
   "id": "e85fe6ca-34a8-44d4-92f0-eefee1e5e603",
   "metadata": {},
   "outputs": [
    {
     "data": {
      "text/plain": [
       "['Hello', \"I'am\", 'Nicolas', '!', 'Je', 'suis', 'un', 'Data', 'Scientist', '.']"
      ]
     },
     "execution_count": 35,
     "metadata": {},
     "output_type": "execute_result"
    }
   ],
   "source": [
    "tokenizer.tokenize(corpus)"
   ]
  },
  {
   "cell_type": "code",
   "execution_count": null,
   "id": "d6158571-4003-4903-8652-09854cb71198",
   "metadata": {},
   "outputs": [],
   "source": []
  }
 ],
 "metadata": {
  "kernelspec": {
   "display_name": "Python 3 (ipykernel)",
   "language": "python",
   "name": "python3"
  },
  "language_info": {
   "codemirror_mode": {
    "name": "ipython",
    "version": 3
   },
   "file_extension": ".py",
   "mimetype": "text/x-python",
   "name": "python",
   "nbconvert_exporter": "python",
   "pygments_lexer": "ipython3",
   "version": "3.13.5"
  }
 },
 "nbformat": 4,
 "nbformat_minor": 5
}
